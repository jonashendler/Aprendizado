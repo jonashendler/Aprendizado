{
  "nbformat": 4,
  "nbformat_minor": 0,
  "metadata": {
    "colab": {
      "name": "Projeto_Album_de_Figurinhas.ipynb",
      "provenance": [],
      "collapsed_sections": [],
      "toc_visible": true,
      "include_colab_link": true
    },
    "kernelspec": {
      "name": "python3",
      "display_name": "Python 3"
    },
    "language_info": {
      "name": "python"
    }
  },
  "cells": [
    {
      "cell_type": "markdown",
      "metadata": {
        "id": "view-in-github",
        "colab_type": "text"
      },
      "source": [
        "<a href=\"https://colab.research.google.com/github/jonashendler/Album_de_figurinhas/blob/main/Projeto_Album_de_Figurinhas.ipynb\" target=\"_parent\"><img src=\"https://colab.research.google.com/assets/colab-badge.svg\" alt=\"Open In Colab\"/></a>"
      ]
    },
    {
      "cell_type": "markdown",
      "metadata": {
        "id": "RgKi_rebQYm9"
      },
      "source": [
        "## **INTRODUÇÃO**\n",
        "\n",
        "Essa programação foi realizada com base na aula **Python para Iniciantes - Do Zero ao Primeiro Projeto!** de Data Science do professor **Ricardo Rocha** da **FLAI**.\n",
        "\n",
        "Com o objetivo de introduzir o Python e seus comando básicos, foi proposto como exercício, avaliar quanto seria necessario gastar para preencher um álbum de figurinhas."
      ]
    },
    {
      "cell_type": "markdown",
      "metadata": {
        "id": "iTybxsEjYEko"
      },
      "source": [
        "## **PROJETO: Álbum de figurinhas**\n",
        "- Total de figurinhas: **212**.\n",
        "- Preço do livro: **R\\$ 10,00**.\n",
        "- Envelope com 4 figurinhas: **R\\$ 4,00**.\n"
      ]
    },
    {
      "cell_type": "markdown",
      "metadata": {
        "id": "8L_o_sWYFr9o"
      },
      "source": [
        "\n",
        "### **SUPOSIÇÕES**\n",
        "1. Todas as figurinhas tem igual probabilidade de serem sorteradas.\n",
        "2. Um pacotinho é comprado por vez até que se complete o álbum.  \n"
      ]
    },
    {
      "cell_type": "markdown",
      "metadata": {
        "id": "yPqI87X_Frc3"
      },
      "source": [
        "\n",
        "### **ALGORITMO**\n",
        "1. Definição dos parâmetros do álbum a ser adiquirido;\n",
        "2. Comprar o álbum (zerado);\n",
        "3. Comprar um pacotinho de figurinhas (4 figurinhas cada, que podem ser repetidas);\n",
        "4. Colar no álbum e verificar se o álbum está completo;\n",
        "5. Verificar se o álbum está completo;\n",
        "6. Unir todos os passos anteriores para simular o álbum completo.\n"
      ]
    },
    {
      "cell_type": "code",
      "metadata": {
        "id": "mq8acc2CqI8z"
      },
      "source": [
        "import numpy as np\n",
        "\n",
        "# 1. Definição dos parâmetros do álbum de figurinhas\n",
        "n_fig = 10            # Simulando álbum com 10 figurinhas para melhor visualização\n",
        "preco_pacote = 4\n",
        "fig_por_pacote = 4\n",
        "preco_album = 10 "
      ],
      "execution_count": 2,
      "outputs": []
    },
    {
      "cell_type": "code",
      "metadata": {
        "id": "r0ZelR-mr2pf",
        "colab": {
          "base_uri": "https://localhost:8080/"
        },
        "outputId": "d826f08f-360f-47a8-b708-422f54836819"
      },
      "source": [
        "# 2. Representação do álbum\n",
        "album = np.zeros(n_fig)\n",
        "album"
      ],
      "execution_count": 3,
      "outputs": [
        {
          "output_type": "execute_result",
          "data": {
            "text/plain": [
              "array([0., 0., 0., 0., 0., 0., 0., 0., 0., 0.])"
            ]
          },
          "metadata": {
            "tags": []
          },
          "execution_count": 3
        }
      ]
    },
    {
      "cell_type": "code",
      "metadata": {
        "id": "4LJUu6tDr8le",
        "colab": {
          "base_uri": "https://localhost:8080/"
        },
        "outputId": "04c3fdf9-6a86-42b6-e1d9-48e91ecc4078"
      },
      "source": [
        "# 3. Representação do pacote de figurinhas (A partir da figurinha de nº 1)\n",
        "pacotinho = np.random.choice(range(1, n_fig+1), fig_por_pacote)\n",
        "pacotinho"
      ],
      "execution_count": 4,
      "outputs": [
        {
          "output_type": "execute_result",
          "data": {
            "text/plain": [
              "array([7, 9, 1, 2])"
            ]
          },
          "metadata": {
            "tags": []
          },
          "execution_count": 4
        }
      ]
    },
    {
      "cell_type": "code",
      "metadata": {
        "id": "9h4PBgcSsAdu",
        "colab": {
          "base_uri": "https://localhost:8080/"
        },
        "outputId": "58dabcfc-312e-4bdd-f6f4-f7b0ade32716"
      },
      "source": [
        "# 4. Colando as figurinhas no álbum (A figurinha nº 1 será colada na 1ª posição)\n",
        "for i in pacotinho:\n",
        "    album[i-1] += 1\n",
        "\n",
        "album"
      ],
      "execution_count": 5,
      "outputs": [
        {
          "output_type": "execute_result",
          "data": {
            "text/plain": [
              "array([1., 1., 0., 0., 0., 0., 1., 0., 1., 0.])"
            ]
          },
          "metadata": {
            "tags": []
          },
          "execution_count": 5
        }
      ]
    },
    {
      "cell_type": "code",
      "metadata": {
        "id": "WyHcABQntHJs",
        "colab": {
          "base_uri": "https://localhost:8080/"
        },
        "outputId": "0714ba64-8582-40c8-d880-2a201b3532d2"
      },
      "source": [
        "# 5. Verificando se o álbum está completo\n",
        "np.all(album >= 1)    # Função np.all verifica se todos os valores são TRUE"
      ],
      "execution_count": 6,
      "outputs": [
        {
          "output_type": "execute_result",
          "data": {
            "text/plain": [
              "False"
            ]
          },
          "metadata": {
            "tags": []
          },
          "execution_count": 6
        }
      ]
    },
    {
      "cell_type": "code",
      "metadata": {
        "id": "XdwARnc21YlL",
        "colab": {
          "base_uri": "https://localhost:8080/"
        },
        "outputId": "8ee27506-187a-421b-8b70-af6e295d2e34"
      },
      "source": [
        "# 6. Simulando álbum completo\n",
        "\n",
        "import numpy as np\n",
        "\n",
        "n_fig = 212\n",
        "preco_pacote = 4\n",
        "fig_por_pacote = 4\n",
        "preco_album = 10\n",
        "\n",
        "def SimulaAlbum():\n",
        "    album = np.zeros(n_fig) \n",
        "    pacotes = 0\n",
        "    while not np.all(album >= 1):\n",
        "        pacotinho = np.random.choice(range(1, n_fig+1), fig_por_pacote)\n",
        "        pacotes += 1\n",
        "\n",
        "        for i in pacotinho:\n",
        "            album[i-1] += 1\n",
        " \n",
        "    valor_gasto = preco_album + preco_pacote * pacotes \n",
        "\n",
        "    return print('O valor gasto para preencher o álbum foi de R$ {},00 e foram necessários {} pacotinhos.' .format(valor_gasto, pacotes))\n",
        "\n",
        "SimulaAlbum()"
      ],
      "execution_count": 7,
      "outputs": [
        {
          "output_type": "stream",
          "text": [
            "O valor gasto para preencher o álbum foi de R$ 918,00 e foram necessários 227 pacotinhos.\n"
          ],
          "name": "stdout"
        }
      ]
    },
    {
      "cell_type": "markdown",
      "metadata": {
        "id": "P5cBz-uZDI8a"
      },
      "source": [
        "\n",
        "### **EXERCÍCIOS**\n",
        "1. Qual o valor médio investido para completar o álbum nessas condições?\n",
        "2. Quantos pacotes são necessários comprar, em média, para completar o álbum?\n",
        "3. Qual é a distribuição empírica do valor investido para completar o álbum?\n",
        "4. Qual a probabilidade de se gastar menos que R\\$1500,00 para completar o álbum?\n",
        "5. Qual a probabilidade de se gastar mais do que a média para completar o álbum?\n",
        "6. Qual é um intervalo de confiança de 95% para o gasto ao se completar o álbum?\n",
        "7. Qual o valor médio gasto caso se esteja completando o álbum com mais um amigo? \n",
        "8. Qual o valor médio gasto caso se esteja completando o álbum com mais dois amigos? \n"
      ]
    },
    {
      "cell_type": "code",
      "metadata": {
        "id": "JFYHfLVgruvY"
      },
      "source": [
        "import numpy as np\n",
        "\n",
        "n_fig = 212\n",
        "preco_pacote = 4\n",
        "fig_por_pacote = 4\n",
        "preco_album = 10\n",
        "simulacoes = 1000\n",
        "\n",
        "def SimulaAlbum():\n",
        "    album = np.zeros(n_fig) \n",
        "    pacotes = 0\n",
        "    while not np.all(album >= 1):\n",
        "        pacotinho = np.random.choice(range(1, n_fig+1), fig_por_pacote)\n",
        "        pacotes += 1\n",
        "\n",
        "        for i in pacotinho:\n",
        "            album[i-1] += 1\n",
        " \n",
        "    valor_gasto = preco_album + preco_pacote * pacotes \n",
        "\n",
        "    return valor_gasto, pacotes\n",
        "\n",
        "SimulaAlbum()\n",
        "\n",
        "def Simulacao(simulacoes, silencio = False):\n",
        "  valores = []\n",
        "  for i in range(simulacoes):\n",
        "    valores.append(SimulaAlbum()[0])\n",
        "    if not silencio:\n",
        "      if (i+1) % 100 == 0:\n",
        "        print('Simulação: ', i+1, '/', simulacoes)\n",
        "  return valores\n",
        "\n",
        "# sim = Simulacao(simulacoes)"
      ],
      "execution_count": 32,
      "outputs": []
    },
    {
      "cell_type": "markdown",
      "metadata": {
        "id": "mFjEdIfO1zY5"
      },
      "source": [
        "#### 1. Qual o valor médio investido para completar o álbum nessas condições?"
      ]
    },
    {
      "cell_type": "code",
      "metadata": {
        "id": "V6rO7MT3x_ya",
        "colab": {
          "base_uri": "https://localhost:8080/"
        },
        "outputId": "0a9a6934-1e07-4c58-c666-8c38d6513bfa"
      },
      "source": [
        "print('O valor médio gasto foi: R$', round(np.mean(sim), 2))\n"
      ],
      "execution_count": 33,
      "outputs": [
        {
          "output_type": "stream",
          "text": [
            "O valor médio gasto foi: R$ 1256.54\n"
          ],
          "name": "stdout"
        }
      ]
    },
    {
      "cell_type": "markdown",
      "metadata": {
        "id": "lMv_m2Fa2EUC"
      },
      "source": [
        "#### 2. Quantos pacotes são necessários comprar, em média, para completar o álbum?"
      ]
    },
    {
      "cell_type": "code",
      "metadata": {
        "id": "3PlBVzVR2GXY",
        "colab": {
          "base_uri": "https://localhost:8080/"
        },
        "outputId": "679ed9c4-9c63-498b-8485-d5437bacfc96"
      },
      "source": [
        "import math\n",
        "\n",
        "print('O numero médio de pacotes foi:', round((np.mean(sim) - preco_album)/preco_pacote, 2))\n",
        "\n",
        "print('O número médio de pacotes foi:', math.ceil((np.mean(sim) - preco_album)/preco_pacote)) # Arredondando para cima"
      ],
      "execution_count": 10,
      "outputs": [
        {
          "output_type": "stream",
          "text": [
            "O numero médio de pacotes foi: 311.63\n",
            "O número médio de pacotes foi: 312\n"
          ],
          "name": "stdout"
        }
      ]
    },
    {
      "cell_type": "markdown",
      "metadata": {
        "id": "lwzmlN374rFD"
      },
      "source": [
        "#### 3. Qual é a distribuição empírica do valor investido para completar o álbum?"
      ]
    },
    {
      "cell_type": "code",
      "metadata": {
        "id": "vTBZG-3v4stz",
        "colab": {
          "base_uri": "https://localhost:8080/",
          "height": 281
        },
        "outputId": "a40be94d-6887-411a-f81d-48a6633b5e7f"
      },
      "source": [
        "import matplotlib.pyplot as plt\n",
        "\n",
        "plt.hist(sim, bins = 25, density = True, color = 'royalblue', edgecolor = 'black')\n",
        "plt.title('Distribuição empírica do valor gasto para completar o álbum')\n",
        "plt.show()"
      ],
      "execution_count": 11,
      "outputs": [
        {
          "output_type": "display_data",
          "data": {
            "image/png": "[encoded data removed]",
            "text/plain": [
              "<Figure size 432x288 with 1 Axes>"
            ]
          },
          "metadata": {
            "tags": [],
            "needs_background": "light"
          }
        }
      ]
    },
    {
      "cell_type": "markdown",
      "metadata": {
        "id": "tyWpRDC-5TLp"
      },
      "source": [
        "#### 4. Qual a probabilidade de se gastar menos que R\\$ 1.500,00 para completar o álbum?\n"
      ]
    },
    {
      "cell_type": "code",
      "metadata": {
        "id": "S_nKCw825mSx",
        "colab": {
          "base_uri": "https://localhost:8080/"
        },
        "outputId": "f6ba9e01-c69f-4731-ce1d-880b7612ed82"
      },
      "source": [
        "prob1 = sum(np.array(sim) < 1500)/simulacoes\n",
        "print('A probabilidade de se gastar menos de R$ 1.500,00 é {:.2f}%'.format(prob1*100))"
      ],
      "execution_count": 12,
      "outputs": [
        {
          "output_type": "stream",
          "text": [
            "A probabilidade de se gastar menos de R$ 1.500,00 é 85.20%\n"
          ],
          "name": "stdout"
        }
      ]
    },
    {
      "cell_type": "markdown",
      "metadata": {
        "id": "rbMIqQWU5UKR"
      },
      "source": [
        "#### 5. Qual a probabilidade de se gastar mais do que a média para completar o álbum?"
      ]
    },
    {
      "cell_type": "code",
      "metadata": {
        "id": "0YAHx7Bc5ria",
        "colab": {
          "base_uri": "https://localhost:8080/"
        },
        "outputId": "4b3ee983-bff4-499d-b9d1-9e6b450e4ec8"
      },
      "source": [
        "prob2 = sum(np.array(sim) > np.array(sim).mean())/simulacoes\n",
        " \n",
        "print('A probabilidade de se gastar mais do que a média é {:.2f}%'.format(prob2*100))"
      ],
      "execution_count": 13,
      "outputs": [
        {
          "output_type": "stream",
          "text": [
            "A probabilidade de se gastar mais do que a média é 43.50%\n"
          ],
          "name": "stdout"
        }
      ]
    },
    {
      "cell_type": "markdown",
      "metadata": {
        "id": "NSG2AHjQ5VKR"
      },
      "source": [
        "#### 6. Qual é um intervalo de confiança de 95% para o gasto ao se completar o álbum?\n"
      ]
    },
    {
      "cell_type": "code",
      "metadata": {
        "id": "38xGq6LN69um",
        "colab": {
          "base_uri": "https://localhost:8080/"
        },
        "outputId": "20f4bc9e-da1e-4858-cdd5-e6fe7f35dd54"
      },
      "source": [
        "qts = np.quantile(sim, [0.025, 0.975])\n",
        "print('O intervalo de confiança de 95% para o gasto total é ({:.2f}, {:.2f})'.format(qts[0], qts[1]))"
      ],
      "execution_count": 14,
      "outputs": [
        {
          "output_type": "stream",
          "text": [
            "O intervalo de confiança de 95% para o gasto total é (877.90, 1922.00)\n"
          ],
          "name": "stdout"
        }
      ]
    },
    {
      "cell_type": "markdown",
      "metadata": {
        "id": "mYQKadzS_EVU"
      },
      "source": [
        "Para simular a estratégia de completar o álbum em grupo, 2 ou mais, precisamos ajustar a nossa função que simula o completamento de um álbum."
      ]
    },
    {
      "cell_type": "code",
      "metadata": {
        "id": "EWIRHICF7s10"
      },
      "source": [
        "def SimulaAlbum(qtde_albuns):\n",
        "    album = np.zeros(n_fig) \n",
        "    pacotes = 0\n",
        "    while not np.all(album >= qtde_albuns):\n",
        "        pacotinho = np.random.choice(range(1, n_fig+1), fig_por_pacote)\n",
        "        pacotes += 1\n",
        "\n",
        "        for i in pacotinho:\n",
        "            album[i-1] += 1\n",
        " \n",
        "    valor_gasto = qtde_albuns*preco_album + preco_pacote * pacotes \n",
        "    valor_gasto_por_album = valor_gasto/qtde_albuns\n",
        "\n",
        "    return valor_gasto, pacotes, valor_gasto_por_album\n",
        "\n",
        "def Simulacao(qtde_albuns, simulacoes, silencio = False):\n",
        "    valores = []\n",
        "    for i in range(simulacoes):\n",
        "        valores.append(SimulaAlbum(qtde_albuns)[2])\n",
        "        if not silencio:\n",
        "            if (i+1) % 100 == 0:\n",
        "                print('Simulação: ', i+1, '/', simulacoes)\n",
        "    return valores"
      ],
      "execution_count": 15,
      "outputs": []
    },
    {
      "cell_type": "markdown",
      "metadata": {
        "id": "FR_YC6um5Vw5"
      },
      "source": [
        "#### 7. Qual o valor médio gasto caso se esteja completando o álbum com mais um amigo?"
      ]
    },
    {
      "cell_type": "code",
      "metadata": {
        "id": "-rJdTjAx9orw",
        "colab": {
          "base_uri": "https://localhost:8080/"
        },
        "outputId": "0786f62f-f7a9-4189-c106-913a6a74f774"
      },
      "source": [
        "sim2 = Simulacao(2, 400, True) \n",
        "c2 = np.array(sim2).mean()\n",
        "print('Custo médio para cada álbum entre 2 amigos:', round(c2, 2) )"
      ],
      "execution_count": 16,
      "outputs": [
        {
          "output_type": "stream",
          "text": [
            "Custo médio para cada álbum entre 2 amigos: 873.6\n"
          ],
          "name": "stdout"
        }
      ]
    },
    {
      "cell_type": "markdown",
      "metadata": {
        "id": "XQ1RLInA5Wbx"
      },
      "source": [
        "#### 8. Qual o valor médio gasto caso se esteja completando o álbum com mais dois amigos?"
      ]
    },
    {
      "cell_type": "code",
      "metadata": {
        "id": "SdHAmdhN-y-Y",
        "colab": {
          "base_uri": "https://localhost:8080/"
        },
        "outputId": "e2ae82e1-4a44-4c8b-cc04-83624c60130a"
      },
      "source": [
        "sim3 = Simulacao(3, 100) \n",
        "c3 = np.array(sim3).mean()\n",
        "print('Custo médio de cada álbum entre 3 amigos:', round(c3, 2) )"
      ],
      "execution_count": 17,
      "outputs": [
        {
          "output_type": "stream",
          "text": [
            "Simulação:  100 / 100\n",
            "Custo médio de cada álbum entre 3 amigos: 729.72\n"
          ],
          "name": "stdout"
        }
      ]
    },
    {
      "cell_type": "markdown",
      "metadata": {
        "id": "GzZvqgppx0qb"
      },
      "source": [
        "### E quando estamos trocando figurinhas na praça?"
      ]
    },
    {
      "cell_type": "markdown",
      "metadata": {
        "id": "R-Hn7MVoxmKv"
      },
      "source": [
        "\n",
        "Vamos ajustar a nossa função que simula o completamento de um álbum, para funcionar para uma quantidade variável de álbuns, representando assim uma estratégia de completar o álbum em grupo."
      ]
    },
    {
      "cell_type": "code",
      "metadata": {
        "id": "KeZhReBZgYpz"
      },
      "source": [
        "import numpy as np\n",
        "import time\n",
        "import math\n",
        "import matplotlib.pyplot as plt\n",
        "\n",
        "def SimulacaoPraca(n_pessoas, simulacoes):\n",
        "    medias = []\n",
        "    n_pessoas = list(range(1, n_pessoas + 1, 1))\n",
        "    for i in n_pessoas: \n",
        "        aux = Simulacao(i, simulacoes, silencio = False)\n",
        "        medias.append(round(np.array(aux).mean(), 2))\n",
        "    return n_pessoas, medias"
      ],
      "execution_count": 18,
      "outputs": []
    },
    {
      "cell_type": "code",
      "metadata": {
        "id": "nUd3ersbyMa7",
        "colab": {
          "base_uri": "https://localhost:8080/"
        },
        "outputId": "708a8ae7-0371-48c5-d492-d721152ba472"
      },
      "source": [
        "SimulacaoPraca(10,5)"
      ],
      "execution_count": 19,
      "outputs": [
        {
          "output_type": "execute_result",
          "data": {
            "text/plain": [
              "([1, 2, 3, 4, 5, 6, 7, 8, 9, 10],\n",
              " [1069.2, 845.2, 686.8, 640.4, 604.24, 552.27, 531.94, 468.0, 451.24, 463.28])"
            ]
          },
          "metadata": {
            "tags": []
          },
          "execution_count": 19
        }
      ]
    },
    {
      "cell_type": "code",
      "metadata": {
        "colab": {
          "base_uri": "https://localhost:8080/",
          "height": 420
        },
        "id": "Yb6ltkqagbuj",
        "outputId": "7a043d9c-0bf5-4c86-91d1-6899aae5cc76"
      },
      "source": [
        "sim_praca = SimulacaoPraca(15, 20)\n",
        "\n",
        "def GraficoCustoPraca(simulacao):\n",
        "\n",
        "    minimo_possivel = math.ceil((n_fig/fig_por_pacote)*preco_pacote + preco_album)\n",
        "\n",
        "    plt.figure(figsize=(18, 6))\n",
        "    plt.bar(simulacao[0], simulacao[1], width = 0.5, color = 'royalblue')\n",
        "    plt.xticks(simulacao[0])\n",
        "    plt.axhline(y = minimo_possivel, linestyle = 'dashed', color = 'blue')\n",
        "    plt.title('Custo médio aproximado para\\n completar o álbum em função do tamanho\\n do grupo de pessoas trocando figurinhas na praça')\n",
        "    plt.show()\n",
        "\n",
        "GraficoCustoPraca(sim_praca)"
      ],
      "execution_count": 20,
      "outputs": [
        {
          "output_type": "display_data",
          "data": {
            "image/png": "[encoded data removed]",
            "text/plain": [
              "<Figure size 1296x432 with 1 Axes>"
            ]
          },
          "metadata": {
            "tags": [],
            "needs_background": "light"
          }
        }
      ]
    },
    {
      "cell_type": "markdown",
      "metadata": {
        "id": "od7AEwMgf2P8"
      },
      "source": [
        "\n",
        "### **OUTRAS PERGUNTAS (FAÇA COMO EXERCÍCIO)**\n",
        "\n",
        "Considere o contexto do projeto do álbum de figurinhas e responda as perguntas adicionais:\n"
      ]
    },
    {
      "cell_type": "markdown",
      "metadata": {
        "id": "VnlsTJP3iVfA"
      },
      "source": [
        "#### 1. Quantas vezes saiu a figurinha mais repetida, em média?"
      ]
    },
    {
      "cell_type": "code",
      "metadata": {
        "id": "47Y95ROJPqiq",
        "colab": {
          "base_uri": "https://localhost:8080/"
        },
        "outputId": "7f771cb7-209a-43e9-b539-6d8ba8d11294"
      },
      "source": [
        "import numpy as np\n",
        "import math\n",
        "\n",
        "n_fig = 212\n",
        "preco_pacote = 4\n",
        "fig_por_pacote = 4\n",
        "preco_album = 10\n",
        "\n",
        "def SimulaMaximo(qtde_albuns):\n",
        "    album = np.zeros(n_fig) \n",
        "    pacotes = 0\n",
        "    while not np.all(album >= qtde_albuns):\n",
        "        pacotinho = np.random.choice(range(1, n_fig+1), fig_por_pacote)\n",
        "        pacotes += 1\n",
        "\n",
        "        for i in pacotinho:\n",
        "            album[i-1] += 1\n",
        "\n",
        "    return max(album)\n",
        "\n",
        "SimulaMaximo(1)\n"
      ],
      "execution_count": 21,
      "outputs": [
        {
          "output_type": "execute_result",
          "data": {
            "text/plain": [
              "15.0"
            ]
          },
          "metadata": {
            "tags": []
          },
          "execution_count": 21
        }
      ]
    },
    {
      "cell_type": "code",
      "metadata": {
        "id": "EY2umr1sS1iT"
      },
      "source": [
        "def MaiorFreq(qtde_albuns):\n",
        "    maximos = []\n",
        "    qtde_albuns = list(range(1, qtde_albuns + 1, 1))\n",
        "    for i in qtde_albuns: \n",
        "        maximos.append(SimulaMaximo(1))\n",
        "    return maximos"
      ],
      "execution_count": 22,
      "outputs": []
    },
    {
      "cell_type": "code",
      "metadata": {
        "id": "yX30IfVdXeT6",
        "colab": {
          "base_uri": "https://localhost:8080/"
        },
        "outputId": "30d2266f-0ad3-4a75-da8d-b83a555f885e"
      },
      "source": [
        "Maximos = MaiorFreq(10)\n",
        "Maximos"
      ],
      "execution_count": 23,
      "outputs": [
        {
          "output_type": "execute_result",
          "data": {
            "text/plain": [
              "[13.0, 13.0, 15.0, 10.0, 11.0, 13.0, 15.0, 10.0, 12.0, 15.0]"
            ]
          },
          "metadata": {
            "tags": []
          },
          "execution_count": 23
        }
      ]
    },
    {
      "cell_type": "code",
      "metadata": {
        "id": "bnO7gSt9ZQx3",
        "colab": {
          "base_uri": "https://localhost:8080/"
        },
        "outputId": "5f52fba6-2886-48f4-aaeb-38868fa94734"
      },
      "source": [
        "media = np.mean(Maximos)\n",
        "round(media, 1)"
      ],
      "execution_count": 24,
      "outputs": [
        {
          "output_type": "execute_result",
          "data": {
            "text/plain": [
              "12.7"
            ]
          },
          "metadata": {
            "tags": []
          },
          "execution_count": 24
        }
      ]
    },
    {
      "cell_type": "markdown",
      "metadata": {
        "id": "ls75cz3ZiJqp"
      },
      "source": [
        "#### 2. Em média, quantas figurinhas não se repetem ao completar o álbum?\n"
      ]
    },
    {
      "cell_type": "code",
      "metadata": {
        "id": "c9gLOQhZi5y-"
      },
      "source": [
        "import numpy as np\n",
        "import math\n",
        "\n",
        "n_fig = 212\n",
        "preco_pacote = 4\n",
        "fig_por_pacote = 4\n",
        "preco_album = 10\n",
        "\n",
        "def SimulaAlbum(qtde_albuns):\n",
        "    album = np.zeros(n_fig) \n",
        "    pacotes = 0\n",
        "    while not np.all(album >= qtde_albuns):\n",
        "        pacotinho = np.random.choice(range(1, n_fig+1), fig_por_pacote)\n",
        "        pacotes += 1\n",
        "\n",
        "        for i in pacotinho:\n",
        "            album[i-1] += 1\n",
        "    \n",
        "    exclusivas = sum([min == 1 for min in album])\n",
        "\n",
        "    return exclusivas"
      ],
      "execution_count": 29,
      "outputs": []
    },
    {
      "cell_type": "code",
      "metadata": {
        "id": "FvrqofBkjEiy"
      },
      "source": [
        "def NaoRepete(qtde_albuns):\n",
        "    exclusivas = []\n",
        "    qtde_albuns = list(range(1, qtde_albuns + 1, 1))\n",
        "    for i in qtde_albuns: \n",
        "        exclusivas.append(SimulaAlbum(1))\n",
        "    return exclusivas"
      ],
      "execution_count": 30,
      "outputs": []
    },
    {
      "cell_type": "code",
      "metadata": {
        "id": "ZhvY5Svfk_BL",
        "colab": {
          "base_uri": "https://localhost:8080/"
        },
        "outputId": "9e13e534-7007-43a7-a4b8-a2df41df0f43"
      },
      "source": [
        "Exclusivas = NaoRepete(10)\n",
        "Exclusivas"
      ],
      "execution_count": 31,
      "outputs": [
        {
          "output_type": "execute_result",
          "data": {
            "text/plain": [
              "[2, 3, 2, 4, 7, 3, 4, 7, 4, 9]"
            ]
          },
          "metadata": {
            "tags": []
          },
          "execution_count": 31
        }
      ]
    },
    {
      "cell_type": "code",
      "metadata": {
        "id": "cqvgm4KYltLJ",
        "colab": {
          "base_uri": "https://localhost:8080/"
        },
        "outputId": "b9fab06c-00ba-44a3-f49a-94a8ae5cc974"
      },
      "source": [
        "media = np.mean(Exclusivas)\n",
        "round(media, 1)"
      ],
      "execution_count": 28,
      "outputs": [
        {
          "output_type": "execute_result",
          "data": {
            "text/plain": [
              "4.7"
            ]
          },
          "metadata": {
            "tags": []
          },
          "execution_count": 28
        }
      ]
    },
    {
      "cell_type": "markdown",
      "metadata": {
        "id": "FxvKJZUOiL3h"
      },
      "source": [
        "#### 3. Faça um gráfico da porcentagem completada esperada em função do número de pacotes comprados."
      ]
    },
    {
      "cell_type": "markdown",
      "metadata": {
        "id": "GL1-kMhW_3Yi"
      },
      "source": [
        " ## **Links Úteis** <a name=\"links\"></a>"
      ]
    },
    {
      "cell_type": "markdown",
      "metadata": {
        "id": "L0tsTIBHA3pJ"
      },
      "source": [
        "1. [Aula Prof. Ricardo Rocha](https://www.youtube.com/watch?v=idwz1MjUDQE&t=8021s)"
      ]
    }
  ]
}