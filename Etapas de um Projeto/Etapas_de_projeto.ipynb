{
  "nbformat": 4,
  "nbformat_minor": 0,
  "metadata": {
    "colab": {
      "name": "Etapas_de_projeto.ipynb",
      "provenance": [],
      "toc_visible": true,
      "authorship_tag": "ABX9TyOwggZ5oo2gMDtHYuESBQV/",
      "include_colab_link": true
    },
    "kernelspec": {
      "name": "python3",
      "display_name": "Python 3"
    },
    "language_info": {
      "name": "python"
    }
  },
  "cells": [
    {
      "cell_type": "markdown",
      "metadata": {
        "id": "view-in-github",
        "colab_type": "text"
      },
      "source": [
        "<a href=\"https://colab.research.google.com/github/jonashendler/Aprendizado/blob/main/Etapas_de_projeto.ipynb\" target=\"_parent\"><img src=\"https://colab.research.google.com/assets/colab-badge.svg\" alt=\"Open In Colab\"/></a>"
      ]
    },
    {
      "cell_type": "markdown",
      "metadata": {
        "id": "WrYV5irx9x3B"
      },
      "source": [
        "##**1. Introdução do Problema**"
      ]
    },
    {
      "cell_type": "markdown",
      "metadata": {
        "id": "KxYZRtDx91SH"
      },
      "source": [
        "* Apresente seu problema e qual a relevância dele.\n",
        "* Quais são os problemas que você irá resolver?\n",
        "* Qual seu público alvo?\n",
        "* Qual seu objetivo?\n",
        "* Quais perguntas eu quero resolver?"
      ]
    },
    {
      "cell_type": "markdown",
      "metadata": {
        "id": "-aMREkWt-Le-"
      },
      "source": [
        "##**2. Importando dataset e bibliotecas**"
      ]
    },
    {
      "cell_type": "markdown",
      "metadata": {
        "id": "VzkgRg1I-S2_"
      },
      "source": [
        "##**3. Análise Exploratória de Dados**"
      ]
    },
    {
      "cell_type": "markdown",
      "metadata": {
        "id": "DCn84GsF-aeu"
      },
      "source": [
        "* Identifique as variáveis.\n",
        "* Medidas Descritivas.\n",
        "* Dados Faltantes.\n",
        "* Outliers."
      ]
    },
    {
      "cell_type": "markdown",
      "metadata": {
        "id": "vM_EGvru-ZMG"
      },
      "source": [
        "##**4. Visualização de Dados**"
      ]
    },
    {
      "cell_type": "markdown",
      "metadata": {
        "id": "tM6KiO8--yb9"
      },
      "source": [
        "* Análise Univariada.\n",
        "* Análise Bivariada (scartterplot, correlação, etc).\n",
        "* Quais gráficos irão ajudar a responder suas perguntas?"
      ]
    },
    {
      "cell_type": "markdown",
      "metadata": {
        "id": "QnoO733n_cBc"
      },
      "source": [
        "##**5. Pré-processamento**"
      ]
    },
    {
      "cell_type": "markdown",
      "metadata": {
        "id": "dNb96eLn_gML"
      },
      "source": [
        "* Variáveis Categóricas (dummies, transformar em numérica, etc).\n",
        "* Variáveis Contínuas (padronização das variáveis, categoriazação, etc).\n",
        "* Separação: Treinamento e Teste."
      ]
    },
    {
      "cell_type": "markdown",
      "metadata": {
        "id": "uhvhSfvw_xer"
      },
      "source": [
        "##**6. Machine Learning**"
      ]
    },
    {
      "cell_type": "markdown",
      "metadata": {
        "id": "ptCMmJGV_1qT"
      },
      "source": [
        "* Classificação/Regressão.\n",
        "* Teste vários algoritmos.\n",
        "* Teste vários cenários.\n",
        "* Seleção de Variável.\n",
        "* Ajuste Parâmetros.\n",
        "* Métricas de Validação.\n",
        "* Deploy."
      ]
    },
    {
      "cell_type": "markdown",
      "metadata": {
        "id": "s4Auud2zBJpx"
      },
      "source": [
        "##**7. Conclusão**"
      ]
    },
    {
      "cell_type": "markdown",
      "metadata": {
        "id": "KSaF98N9BMKA"
      },
      "source": [
        "* Resumo do artigo.\n",
        "* Quais são os principais resultados?\n",
        "* Qual era seu objetivo?\n",
        "* Quais conclusões relevantes você levantou desses estudos?\n",
        "* Quais ações devo tomar a partir desses resultados?\n",
        "* Próximos passos (melhorias, continuação do projeto, etc)."
      ]
    }
  ]
}